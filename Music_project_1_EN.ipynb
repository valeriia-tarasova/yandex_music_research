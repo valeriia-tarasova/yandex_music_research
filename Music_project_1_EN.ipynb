{
 "cells": [
  {
   "cell_type": "markdown",
   "metadata": {
    "id": "VUC88oWjTJw2"
   },
   "source": [
    "# Research of user preferences of residents of Moscow and St. Petersburg in the Yandex.Music application\n",
    "\n",
    "The aim of the study is to test three hypotheses:\n",
    "\n",
    "1. User activity depends on the day of the week. Moreover, in Moscow and St. Petersburg this manifests itself in different ways. \n",
    "2. On Monday morning, certain genres prevail in Moscow, while others prevail in St. Petersburg. Similarly, Friday evenings are dominated by different genres, depending on the city.\n",
    "3. Moscow and St. Petersburg prefer different genres of music. In Moscow, they listen to pop music more often, in St. Petersburg - Russian rap. Research progress\n",
    "\n",
    "You will receive data on user behavior from the yandex_music_project.csv file. Nothing is known about the quality of the data. Therefore, before testing hypotheses, a review of the data is required.\n",
    "\n",
    "Work plan: \n",
    "1. Data review. \n",
    "2. Data preprocessing. \n",
    "3. Hypothesis testing."
   ]
  },
  {
   "cell_type": "markdown",
   "metadata": {
    "id": "Ml1hmfXC_Zcs"
   },
   "source": [
    "## Data review"
   ]
  },
  {
   "cell_type": "code",
   "execution_count": 1,
   "metadata": {
    "id": "AXN7PHPN_Zcs"
   },
   "outputs": [],
   "source": [
    "import pandas as pd"
   ]
  },
  {
   "cell_type": "code",
   "execution_count": 2,
   "metadata": {
    "id": "fFVu7vqh_Zct"
   },
   "outputs": [],
   "source": [
    "df = pd.read_csv('/datasets/yandex_music_project.csv')"
   ]
  },
  {
   "cell_type": "code",
   "execution_count": 3,
   "metadata": {
    "id": "oWTVX3gW_Zct"
   },
   "outputs": [
    {
     "data": {
      "text/html": [
       "<div>\n",
       "<style scoped>\n",
       "    .dataframe tbody tr th:only-of-type {\n",
       "        vertical-align: middle;\n",
       "    }\n",
       "\n",
       "    .dataframe tbody tr th {\n",
       "        vertical-align: top;\n",
       "    }\n",
       "\n",
       "    .dataframe thead th {\n",
       "        text-align: right;\n",
       "    }\n",
       "</style>\n",
       "<table border=\"1\" class=\"dataframe\">\n",
       "  <thead>\n",
       "    <tr style=\"text-align: right;\">\n",
       "      <th></th>\n",
       "      <th>userID</th>\n",
       "      <th>Track</th>\n",
       "      <th>artist</th>\n",
       "      <th>genre</th>\n",
       "      <th>City</th>\n",
       "      <th>time</th>\n",
       "      <th>Day</th>\n",
       "    </tr>\n",
       "  </thead>\n",
       "  <tbody>\n",
       "    <tr>\n",
       "      <td>0</td>\n",
       "      <td>FFB692EC</td>\n",
       "      <td>Kamigata To Boots</td>\n",
       "      <td>The Mass Missile</td>\n",
       "      <td>rock</td>\n",
       "      <td>Saint-Petersburg</td>\n",
       "      <td>20:28:33</td>\n",
       "      <td>Wednesday</td>\n",
       "    </tr>\n",
       "    <tr>\n",
       "      <td>1</td>\n",
       "      <td>55204538</td>\n",
       "      <td>Delayed Because of Accident</td>\n",
       "      <td>Andreas Rönnberg</td>\n",
       "      <td>rock</td>\n",
       "      <td>Moscow</td>\n",
       "      <td>14:07:09</td>\n",
       "      <td>Friday</td>\n",
       "    </tr>\n",
       "    <tr>\n",
       "      <td>2</td>\n",
       "      <td>20EC38</td>\n",
       "      <td>Funiculì funiculà</td>\n",
       "      <td>Mario Lanza</td>\n",
       "      <td>pop</td>\n",
       "      <td>Saint-Petersburg</td>\n",
       "      <td>20:58:07</td>\n",
       "      <td>Wednesday</td>\n",
       "    </tr>\n",
       "    <tr>\n",
       "      <td>3</td>\n",
       "      <td>A3DD03C9</td>\n",
       "      <td>Dragons in the Sunset</td>\n",
       "      <td>Fire + Ice</td>\n",
       "      <td>folk</td>\n",
       "      <td>Saint-Petersburg</td>\n",
       "      <td>08:37:09</td>\n",
       "      <td>Monday</td>\n",
       "    </tr>\n",
       "    <tr>\n",
       "      <td>4</td>\n",
       "      <td>E2DC1FAE</td>\n",
       "      <td>Soul People</td>\n",
       "      <td>Space Echo</td>\n",
       "      <td>dance</td>\n",
       "      <td>Moscow</td>\n",
       "      <td>08:34:34</td>\n",
       "      <td>Monday</td>\n",
       "    </tr>\n",
       "    <tr>\n",
       "      <td>5</td>\n",
       "      <td>842029A1</td>\n",
       "      <td>Преданная</td>\n",
       "      <td>IMPERVTOR</td>\n",
       "      <td>rusrap</td>\n",
       "      <td>Saint-Petersburg</td>\n",
       "      <td>13:09:41</td>\n",
       "      <td>Friday</td>\n",
       "    </tr>\n",
       "    <tr>\n",
       "      <td>6</td>\n",
       "      <td>4CB90AA5</td>\n",
       "      <td>True</td>\n",
       "      <td>Roman Messer</td>\n",
       "      <td>dance</td>\n",
       "      <td>Moscow</td>\n",
       "      <td>13:00:07</td>\n",
       "      <td>Wednesday</td>\n",
       "    </tr>\n",
       "    <tr>\n",
       "      <td>7</td>\n",
       "      <td>F03E1C1F</td>\n",
       "      <td>Feeling This Way</td>\n",
       "      <td>Polina Griffith</td>\n",
       "      <td>dance</td>\n",
       "      <td>Moscow</td>\n",
       "      <td>20:47:49</td>\n",
       "      <td>Wednesday</td>\n",
       "    </tr>\n",
       "    <tr>\n",
       "      <td>8</td>\n",
       "      <td>8FA1D3BE</td>\n",
       "      <td>И вновь продолжается бой</td>\n",
       "      <td>NaN</td>\n",
       "      <td>ruspop</td>\n",
       "      <td>Moscow</td>\n",
       "      <td>09:17:40</td>\n",
       "      <td>Friday</td>\n",
       "    </tr>\n",
       "    <tr>\n",
       "      <td>9</td>\n",
       "      <td>E772D5C0</td>\n",
       "      <td>Pessimist</td>\n",
       "      <td>NaN</td>\n",
       "      <td>dance</td>\n",
       "      <td>Saint-Petersburg</td>\n",
       "      <td>21:20:49</td>\n",
       "      <td>Wednesday</td>\n",
       "    </tr>\n",
       "  </tbody>\n",
       "</table>\n",
       "</div>"
      ],
      "text/plain": [
       "     userID                        Track            artist   genre  \\\n",
       "0  FFB692EC            Kamigata To Boots  The Mass Missile    rock   \n",
       "1  55204538  Delayed Because of Accident  Andreas Rönnberg    rock   \n",
       "2    20EC38            Funiculì funiculà       Mario Lanza     pop   \n",
       "3  A3DD03C9        Dragons in the Sunset        Fire + Ice    folk   \n",
       "4  E2DC1FAE                  Soul People        Space Echo   dance   \n",
       "5  842029A1                    Преданная         IMPERVTOR  rusrap   \n",
       "6  4CB90AA5                         True      Roman Messer   dance   \n",
       "7  F03E1C1F             Feeling This Way   Polina Griffith   dance   \n",
       "8  8FA1D3BE     И вновь продолжается бой               NaN  ruspop   \n",
       "9  E772D5C0                    Pessimist               NaN   dance   \n",
       "\n",
       "             City        time        Day  \n",
       "0  Saint-Petersburg  20:28:33  Wednesday  \n",
       "1            Moscow  14:07:09     Friday  \n",
       "2  Saint-Petersburg  20:58:07  Wednesday  \n",
       "3  Saint-Petersburg  08:37:09     Monday  \n",
       "4            Moscow  08:34:34     Monday  \n",
       "5  Saint-Petersburg  13:09:41     Friday  \n",
       "6            Moscow  13:00:07  Wednesday  \n",
       "7            Moscow  20:47:49  Wednesday  \n",
       "8            Moscow  09:17:40     Friday  \n",
       "9  Saint-Petersburg  21:20:49  Wednesday  "
      ]
     },
     "execution_count": 3,
     "metadata": {},
     "output_type": "execute_result"
    }
   ],
   "source": [
    "df.head(10)"
   ]
  },
  {
   "cell_type": "code",
   "execution_count": 4,
   "metadata": {
    "id": "DSf2kIb-_Zct"
   },
   "outputs": [
    {
     "name": "stdout",
     "output_type": "stream",
     "text": [
      "<class 'pandas.core.frame.DataFrame'>\n",
      "RangeIndex: 65079 entries, 0 to 65078\n",
      "Data columns (total 7 columns):\n",
      "  userID    65079 non-null object\n",
      "Track       63848 non-null object\n",
      "artist      57876 non-null object\n",
      "genre       63881 non-null object\n",
      "  City      65079 non-null object\n",
      "time        65079 non-null object\n",
      "Day         65079 non-null object\n",
      "dtypes: object(7)\n",
      "memory usage: 3.5+ MB\n"
     ]
    }
   ],
   "source": [
    "df.info()"
   ]
  },
  {
   "cell_type": "markdown",
   "metadata": {
    "id": "TaQ2Iwbr_Zct"
   },
   "source": [
    "So the table has seven columns. The data type in all columns is `object`.\n",
    "\n",
    "According to the data documentation:\n",
    "* `userID` - user ID;\n",
    "* `Track` — track name;\n",
    "* `artist` — artist name;\n",
    "* `genre` — genre name;\n",
    "* `City` - user's city;\n",
    "* `time` - start time of listening;\n",
    "* `Day` is the day of the week.\n",
    "\n",
    "There are three style violations in the column headings:\n",
    "1. Lowercase letters are combined with uppercase.\n",
    "2. There are gaps.\n",
    "3. Not used \"snake register\"\n",
    "\n",
    "\n",
    "\n",
    "The number of values in the columns varies. This means there are missing values in the data.\n"
   ]
  },
  {
   "cell_type": "markdown",
   "metadata": {
    "id": "MCB6-dXG_Zct"
   },
   "source": [
    "**Conclusions**\n",
    "\n",
    "Each line of the table contains data about the track you have listened to. Some of the columns describe the composition itself: title, artist and genre. The rest of the data tells about the user: what city he is from, when he listened to music.\n",
    "\n",
    "Preliminarily, it can be argued that there is enough data to test hypotheses. But there are gaps in the data, and discrepancies in the names of the columns with good style.\n",
    "\n",
    "To move forward, you need to fix problems in the data."
   ]
  },
  {
   "cell_type": "markdown",
   "metadata": {
    "id": "SjYF6Ub9_Zct"
   },
   "source": [
    "## Data preprocessing"
   ]
  },
  {
   "cell_type": "markdown",
   "metadata": {
    "id": "dIaKXr29_Zct"
   },
   "source": [
    "### Heading style"
   ]
  },
  {
   "cell_type": "code",
   "execution_count": 5,
   "metadata": {
    "id": "oKOTdF_Q_Zct"
   },
   "outputs": [
    {
     "data": {
      "text/plain": [
       "Index(['  userID', 'Track', 'artist', 'genre', '  City  ', 'time', 'Day'], dtype='object')"
      ]
     },
     "execution_count": 5,
     "metadata": {},
     "output_type": "execute_result"
    }
   ],
   "source": [
    "df.columns"
   ]
  },
  {
   "cell_type": "code",
   "execution_count": 6,
   "metadata": {
    "id": "ISlFqs5y_Zct"
   },
   "outputs": [],
   "source": [
    "df = df.rename(columns={'  userID':'user_id', 'Track':'track','  City  ':'city','Day':'day'})"
   ]
  },
  {
   "cell_type": "code",
   "execution_count": 7,
   "metadata": {
    "id": "d4NOAmTW_Zct"
   },
   "outputs": [
    {
     "data": {
      "text/plain": [
       "Index(['user_id', 'track', 'artist', 'genre', 'city', 'time', 'day'], dtype='object')"
      ]
     },
     "execution_count": 7,
     "metadata": {},
     "output_type": "execute_result"
    }
   ],
   "source": [
    "df.columns"
   ]
  },
  {
   "cell_type": "markdown",
   "metadata": {
    "id": "5ISfbcfY_Zct"
   },
   "source": [
    "### Missing values"
   ]
  },
  {
   "cell_type": "code",
   "execution_count": 8,
   "metadata": {
    "id": "RskX29qr_Zct"
   },
   "outputs": [
    {
     "data": {
      "text/plain": [
       "user_id       0\n",
       "track      1231\n",
       "artist     7203\n",
       "genre      1198\n",
       "city          0\n",
       "time          0\n",
       "day           0\n",
       "dtype: int64"
      ]
     },
     "execution_count": 8,
     "metadata": {},
     "output_type": "execute_result"
    }
   ],
   "source": [
    "df.isna().sum()"
   ]
  },
  {
   "cell_type": "code",
   "execution_count": 9,
   "metadata": {
    "id": "KplB5qWs_Zct"
   },
   "outputs": [],
   "source": [
    "columns_to_replace = ['track', 'artist', 'genre']\n",
    "for column in columns_to_replace:\n",
    "    df[column] = df[column].fillna('unknown')"
   ]
  },
  {
   "cell_type": "code",
   "execution_count": 10,
   "metadata": {
    "id": "Tq4nYRX4_Zct"
   },
   "outputs": [
    {
     "name": "stdout",
     "output_type": "stream",
     "text": [
      "user_id    0\n",
      "track      0\n",
      "artist     0\n",
      "genre      0\n",
      "city       0\n",
      "time       0\n",
      "day        0\n",
      "dtype: int64\n"
     ]
    }
   ],
   "source": [
    "print(df.isna().sum())"
   ]
  },
  {
   "cell_type": "markdown",
   "metadata": {
    "id": "BWKRtBJ3_Zct"
   },
   "source": [
    "### Duplicates"
   ]
  },
  {
   "cell_type": "code",
   "execution_count": 11,
   "metadata": {
    "id": "36eES_S0_Zct"
   },
   "outputs": [
    {
     "name": "stdout",
     "output_type": "stream",
     "text": [
      "3826\n"
     ]
    }
   ],
   "source": [
    "print(df.duplicated().sum())"
   ]
  },
  {
   "cell_type": "code",
   "execution_count": 12,
   "metadata": {
    "id": "exFHq6tt_Zct"
   },
   "outputs": [],
   "source": [
    "df = df.drop_duplicates().reset_index(drop=True)"
   ]
  },
  {
   "cell_type": "code",
   "execution_count": 13,
   "metadata": {
    "id": "-8PuNWQ0_Zct"
   },
   "outputs": [
    {
     "name": "stdout",
     "output_type": "stream",
     "text": [
      "0\n"
     ]
    }
   ],
   "source": [
    "# проверка на отсутствие дубликатов\n",
    "print(df.duplicated().sum())"
   ]
  },
  {
   "cell_type": "code",
   "execution_count": 14,
   "metadata": {
    "id": "JIUcqzZN_Zct"
   },
   "outputs": [
    {
     "name": "stdout",
     "output_type": "stream",
     "text": [
      "['acid' 'acoustic' 'action' 'adult' 'africa' 'afrikaans' 'alternative'\n",
      " 'alternativepunk' 'ambient' 'americana' 'animated' 'anime' 'arabesk'\n",
      " 'arabic' 'arena' 'argentinetango' 'art' 'audiobook' 'author' 'avantgarde'\n",
      " 'axé' 'baile' 'balkan' 'beats' 'bigroom' 'black' 'bluegrass' 'blues'\n",
      " 'bollywood' 'bossa' 'brazilian' 'breakbeat' 'breaks' 'broadway'\n",
      " 'cantautori' 'cantopop' 'canzone' 'caribbean' 'caucasian' 'celtic'\n",
      " 'chamber' 'chanson' 'children' 'chill' 'chinese' 'choral' 'christian'\n",
      " 'christmas' 'classical' 'classicmetal' 'club' 'colombian' 'comedy'\n",
      " 'conjazz' 'contemporary' 'country' 'cuban' 'dance' 'dancehall' 'dancepop'\n",
      " 'dark' 'death' 'deep' 'deutschrock' 'deutschspr' 'dirty' 'disco' 'dnb'\n",
      " 'documentary' 'downbeat' 'downtempo' 'drum' 'dub' 'dubstep' 'eastern'\n",
      " 'easy' 'electronic' 'electropop' 'emo' 'entehno' 'epicmetal' 'estrada'\n",
      " 'ethnic' 'eurofolk' 'european' 'experimental' 'extrememetal' 'fado'\n",
      " 'fairytail' 'film' 'fitness' 'flamenco' 'folk' 'folklore' 'folkmetal'\n",
      " 'folkrock' 'folktronica' 'forró' 'frankreich' 'französisch' 'french'\n",
      " 'funk' 'future' 'gangsta' 'garage' 'german' 'ghazal' 'gitarre' 'glitch'\n",
      " 'gospel' 'gothic' 'grime' 'grunge' 'gypsy' 'handsup' \"hard'n'heavy\"\n",
      " 'hardcore' 'hardstyle' 'hardtechno' 'hip' 'hip-hop' 'hiphop' 'historisch'\n",
      " 'holiday' 'hop' 'horror' 'house' 'hymn' 'idm' 'independent' 'indian'\n",
      " 'indie' 'indipop' 'industrial' 'inspirational' 'instrumental'\n",
      " 'international' 'irish' 'jam' 'japanese' 'jazz' 'jewish' 'jpop' 'jungle'\n",
      " 'k-pop' 'karadeniz' 'karaoke' 'kayokyoku' 'korean' 'laiko' 'latin'\n",
      " 'latino' 'leftfield' 'local' 'lounge' 'loungeelectronic' 'lovers'\n",
      " 'malaysian' 'mandopop' 'marschmusik' 'meditative' 'mediterranean'\n",
      " 'melodic' 'metal' 'metalcore' 'mexican' 'middle' 'minimal'\n",
      " 'miscellaneous' 'modern' 'mood' 'mpb' 'muslim' 'native' 'neoklassik'\n",
      " 'neue' 'new' 'newage' 'newwave' 'nu' 'nujazz' 'numetal' 'oceania' 'old'\n",
      " 'opera' 'orchestral' 'other' 'piano' 'podcasts' 'pop' 'popdance'\n",
      " 'popelectronic' 'popeurodance' 'poprussian' 'post' 'posthardcore'\n",
      " 'postrock' 'power' 'progmetal' 'progressive' 'psychedelic' 'punjabi'\n",
      " 'punk' 'quebecois' 'ragga' 'ram' 'rancheras' 'rap' 'rave' 'reggae'\n",
      " 'reggaeton' 'regional' 'relax' 'religious' 'retro' 'rhythm' 'rnb' 'rnr'\n",
      " 'rock' 'rockabilly' 'rockalternative' 'rockindie' 'rockother' 'romance'\n",
      " 'roots' 'ruspop' 'rusrap' 'rusrock' 'russian' 'salsa' 'samba' 'scenic'\n",
      " 'schlager' 'self' 'sertanejo' 'shanson' 'shoegazing' 'showtunes' 'singer'\n",
      " 'ska' 'skarock' 'slow' 'smooth' 'soft' 'soul' 'soulful' 'sound'\n",
      " 'soundtrack' 'southern' 'specialty' 'speech' 'spiritual' 'sport'\n",
      " 'stonerrock' 'surf' 'swing' 'synthpop' 'synthrock' 'sängerportrait'\n",
      " 'tango' 'tanzorchester' 'taraftar' 'tatar' 'tech' 'techno' 'teen'\n",
      " 'thrash' 'top' 'traditional' 'tradjazz' 'trance' 'tribal' 'trip'\n",
      " 'triphop' 'tropical' 'türk' 'türkçe' 'ukrrock' 'unknown' 'urban' 'uzbek'\n",
      " 'variété' 'vi' 'videogame' 'vocal' 'western' 'world' 'worldbeat' 'ïîï'\n",
      " 'электроника']\n"
     ]
    }
   ],
   "source": [
    "genre_list = df.sort_values(by='genre', ascending = True)\n",
    "genre_list = genre_list['genre'].unique()\n",
    "print(genre_list)"
   ]
  },
  {
   "cell_type": "code",
   "execution_count": 15,
   "metadata": {
    "id": "ErNDkmns_Zct"
   },
   "outputs": [],
   "source": [
    "def replace_wrong_genres (wrong_genres, correct_genre):\n",
    "    for wrong_genres in wrong_genres:\n",
    "        df['genre'] = df['genre'].replace(wrong_genres, correct_genre)"
   ]
  },
  {
   "cell_type": "code",
   "execution_count": 16,
   "metadata": {
    "id": "YN5i2hpmSo09"
   },
   "outputs": [],
   "source": [
    "wrong_names = ['hip', 'hop', 'hip-hop']\n",
    "right_name = 'hiphop'\n",
    "replace_wrong_genres(wrong_names, right_name)"
   ]
  },
  {
   "cell_type": "code",
   "execution_count": 17,
   "metadata": {
    "id": "wvixALnFG15m"
   },
   "outputs": [
    {
     "name": "stdout",
     "output_type": "stream",
     "text": [
      "['acid' 'acoustic' 'action' 'adult' 'africa' 'afrikaans' 'alternative'\n",
      " 'alternativepunk' 'ambient' 'americana' 'animated' 'anime' 'arabesk'\n",
      " 'arabic' 'arena' 'argentinetango' 'art' 'audiobook' 'author' 'avantgarde'\n",
      " 'axé' 'baile' 'balkan' 'beats' 'bigroom' 'black' 'bluegrass' 'blues'\n",
      " 'bollywood' 'bossa' 'brazilian' 'breakbeat' 'breaks' 'broadway'\n",
      " 'cantautori' 'cantopop' 'canzone' 'caribbean' 'caucasian' 'celtic'\n",
      " 'chamber' 'chanson' 'children' 'chill' 'chinese' 'choral' 'christian'\n",
      " 'christmas' 'classical' 'classicmetal' 'club' 'colombian' 'comedy'\n",
      " 'conjazz' 'contemporary' 'country' 'cuban' 'dance' 'dancehall' 'dancepop'\n",
      " 'dark' 'death' 'deep' 'deutschrock' 'deutschspr' 'dirty' 'disco' 'dnb'\n",
      " 'documentary' 'downbeat' 'downtempo' 'drum' 'dub' 'dubstep' 'eastern'\n",
      " 'easy' 'electronic' 'electropop' 'emo' 'entehno' 'epicmetal' 'estrada'\n",
      " 'ethnic' 'eurofolk' 'european' 'experimental' 'extrememetal' 'fado'\n",
      " 'fairytail' 'film' 'fitness' 'flamenco' 'folk' 'folklore' 'folkmetal'\n",
      " 'folkrock' 'folktronica' 'forró' 'frankreich' 'französisch' 'french'\n",
      " 'funk' 'future' 'gangsta' 'garage' 'german' 'ghazal' 'gitarre' 'glitch'\n",
      " 'gospel' 'gothic' 'grime' 'grunge' 'gypsy' 'handsup' \"hard'n'heavy\"\n",
      " 'hardcore' 'hardstyle' 'hardtechno' 'hiphop' 'historisch' 'holiday'\n",
      " 'horror' 'house' 'hymn' 'idm' 'independent' 'indian' 'indie' 'indipop'\n",
      " 'industrial' 'inspirational' 'instrumental' 'international' 'irish' 'jam'\n",
      " 'japanese' 'jazz' 'jewish' 'jpop' 'jungle' 'k-pop' 'karadeniz' 'karaoke'\n",
      " 'kayokyoku' 'korean' 'laiko' 'latin' 'latino' 'leftfield' 'local'\n",
      " 'lounge' 'loungeelectronic' 'lovers' 'malaysian' 'mandopop' 'marschmusik'\n",
      " 'meditative' 'mediterranean' 'melodic' 'metal' 'metalcore' 'mexican'\n",
      " 'middle' 'minimal' 'miscellaneous' 'modern' 'mood' 'mpb' 'muslim'\n",
      " 'native' 'neoklassik' 'neue' 'new' 'newage' 'newwave' 'nu' 'nujazz'\n",
      " 'numetal' 'oceania' 'old' 'opera' 'orchestral' 'other' 'piano' 'podcasts'\n",
      " 'pop' 'popdance' 'popelectronic' 'popeurodance' 'poprussian' 'post'\n",
      " 'posthardcore' 'postrock' 'power' 'progmetal' 'progressive' 'psychedelic'\n",
      " 'punjabi' 'punk' 'quebecois' 'ragga' 'ram' 'rancheras' 'rap' 'rave'\n",
      " 'reggae' 'reggaeton' 'regional' 'relax' 'religious' 'retro' 'rhythm'\n",
      " 'rnb' 'rnr' 'rock' 'rockabilly' 'rockalternative' 'rockindie' 'rockother'\n",
      " 'romance' 'roots' 'ruspop' 'rusrap' 'rusrock' 'russian' 'salsa' 'samba'\n",
      " 'scenic' 'schlager' 'self' 'sertanejo' 'shanson' 'shoegazing' 'showtunes'\n",
      " 'singer' 'ska' 'skarock' 'slow' 'smooth' 'soft' 'soul' 'soulful' 'sound'\n",
      " 'soundtrack' 'southern' 'specialty' 'speech' 'spiritual' 'sport'\n",
      " 'stonerrock' 'surf' 'swing' 'synthpop' 'synthrock' 'sängerportrait'\n",
      " 'tango' 'tanzorchester' 'taraftar' 'tatar' 'tech' 'techno' 'teen'\n",
      " 'thrash' 'top' 'traditional' 'tradjazz' 'trance' 'tribal' 'trip'\n",
      " 'triphop' 'tropical' 'türk' 'türkçe' 'ukrrock' 'unknown' 'urban' 'uzbek'\n",
      " 'variété' 'vi' 'videogame' 'vocal' 'western' 'world' 'worldbeat' 'ïîï'\n",
      " 'электроника']\n"
     ]
    }
   ],
   "source": [
    "genre_list = df.sort_values(by='genre', ascending = True)\n",
    "genre_list = genre_list['genre'].unique()\n",
    "print(genre_list)"
   ]
  },
  {
   "cell_type": "markdown",
   "metadata": {
    "id": "jz6a9-7HQUDd"
   },
   "source": [
    "**Conclusions**\n",
    "\n",
    "Preprocessing found three problems in the data:\n",
    "\n",
    "- headline style violations,\n",
    "- missing values,\n",
    "- duplicates - explicit and implicit.\n",
    "\n",
    "You've fixed the headers to make the table easier to work with. Without duplicates, the study will become more accurate.\n",
    "\n",
    "You have replaced missing values with `'unknown'`. It remains to be seen whether the gaps in the `genre` column will harm the study.\n",
    "\n",
    "Now we can move on to hypothesis testing. "
   ]
  },
  {
   "cell_type": "markdown",
   "metadata": {
    "id": "WttZHXH0SqKk"
   },
   "source": [
    "## Hypothesis testing"
   ]
  },
  {
   "cell_type": "markdown",
   "metadata": {
    "id": "Im936VVi_Zcu"
   },
   "source": [
    "### Comparison of user behavior in Moscow and Saint-Petersburg"
   ]
  },
  {
   "cell_type": "code",
   "execution_count": 18,
   "metadata": {
    "id": "0_Qs96oh_Zcu",
    "scrolled": true
   },
   "outputs": [
    {
     "data": {
      "text/plain": [
       "city\n",
       "Moscow              42741\n",
       "Saint-Petersburg    18512\n",
       "Name: genre, dtype: int64"
      ]
     },
     "execution_count": 18,
     "metadata": {},
     "output_type": "execute_result"
    }
   ],
   "source": [
    "df.groupby('city')['genre'].count()"
   ]
  },
  {
   "cell_type": "markdown",
   "metadata": {
    "id": "dzli3w8o_Zcu"
   },
   "source": [
    "There are more auditions in Moscow than in St. Petersburg. It does not follow from this that Moscow users listen to music more often. There are simply more users in Moscow."
   ]
  },
  {
   "cell_type": "code",
   "execution_count": 19,
   "metadata": {
    "id": "uZMKjiJz_Zcu"
   },
   "outputs": [
    {
     "data": {
      "text/plain": [
       "day\n",
       "Friday       21840\n",
       "Monday       21354\n",
       "Wednesday    18059\n",
       "Name: genre, dtype: int64"
      ]
     },
     "execution_count": 19,
     "metadata": {},
     "output_type": "execute_result"
    }
   ],
   "source": [
    "df.groupby('day')['genre'].count()"
   ]
  },
  {
   "cell_type": "markdown",
   "metadata": {
    "id": "cC2tNrlL_Zcu"
   },
   "source": [
    "On average, users from the two cities are less active on Wednesdays. But the picture may change if we consider each city separately."
   ]
  },
  {
   "cell_type": "code",
   "execution_count": 20,
   "metadata": {
    "id": "Nz3GdQB1_Zcu"
   },
   "outputs": [],
   "source": [
    "def number_tracks (day, city):\n",
    "    track_list = df[(df['day']==day) & (df['city']==city)]\n",
    "    track_list_count = track_list['user_id'].count()\n",
    "    return track_list_count"
   ]
  },
  {
   "cell_type": "code",
   "execution_count": 21,
   "metadata": {
    "id": "rJcRATNQ_Zcu"
   },
   "outputs": [
    {
     "data": {
      "text/plain": [
       "15740"
      ]
     },
     "execution_count": 21,
     "metadata": {},
     "output_type": "execute_result"
    }
   ],
   "source": [
    "number_tracks('Monday','Moscow')"
   ]
  },
  {
   "cell_type": "code",
   "execution_count": 22,
   "metadata": {
    "id": "hq_ncZ5T_Zcu"
   },
   "outputs": [
    {
     "data": {
      "text/plain": [
       "5614"
      ]
     },
     "execution_count": 22,
     "metadata": {},
     "output_type": "execute_result"
    }
   ],
   "source": [
    "number_tracks('Monday','Saint-Petersburg')"
   ]
  },
  {
   "cell_type": "code",
   "execution_count": 23,
   "metadata": {
    "id": "_NTy2VPU_Zcu"
   },
   "outputs": [
    {
     "data": {
      "text/plain": [
       "11056"
      ]
     },
     "execution_count": 23,
     "metadata": {},
     "output_type": "execute_result"
    }
   ],
   "source": [
    "number_tracks('Wednesday','Moscow')"
   ]
  },
  {
   "cell_type": "code",
   "execution_count": 24,
   "metadata": {
    "id": "j2y3TAwo_Zcu"
   },
   "outputs": [
    {
     "data": {
      "text/plain": [
       "7003"
      ]
     },
     "execution_count": 24,
     "metadata": {},
     "output_type": "execute_result"
    }
   ],
   "source": [
    "number_tracks('Wednesday','Saint-Petersburg')"
   ]
  },
  {
   "cell_type": "code",
   "execution_count": 25,
   "metadata": {
    "id": "vYDw5u_K_Zcu"
   },
   "outputs": [
    {
     "data": {
      "text/plain": [
       "15945"
      ]
     },
     "execution_count": 25,
     "metadata": {},
     "output_type": "execute_result"
    }
   ],
   "source": [
    "number_tracks('Friday','Moscow')"
   ]
  },
  {
   "cell_type": "code",
   "execution_count": 26,
   "metadata": {
    "id": "8_yzFtW3_Zcu"
   },
   "outputs": [
    {
     "data": {
      "text/plain": [
       "5895"
      ]
     },
     "execution_count": 26,
     "metadata": {},
     "output_type": "execute_result"
    }
   ],
   "source": [
    "number_tracks('Friday','Saint-Petersburg')"
   ]
  },
  {
   "cell_type": "code",
   "execution_count": 27,
   "metadata": {
    "id": "APAcLpOr_Zcu"
   },
   "outputs": [
    {
     "data": {
      "text/html": [
       "<div>\n",
       "<style scoped>\n",
       "    .dataframe tbody tr th:only-of-type {\n",
       "        vertical-align: middle;\n",
       "    }\n",
       "\n",
       "    .dataframe tbody tr th {\n",
       "        vertical-align: top;\n",
       "    }\n",
       "\n",
       "    .dataframe thead th {\n",
       "        text-align: right;\n",
       "    }\n",
       "</style>\n",
       "<table border=\"1\" class=\"dataframe\">\n",
       "  <thead>\n",
       "    <tr style=\"text-align: right;\">\n",
       "      <th></th>\n",
       "      <th>city</th>\n",
       "      <th>monday</th>\n",
       "      <th>wednesday</th>\n",
       "      <th>friday</th>\n",
       "    </tr>\n",
       "  </thead>\n",
       "  <tbody>\n",
       "    <tr>\n",
       "      <td>0</td>\n",
       "      <td>Moscow</td>\n",
       "      <td>15740</td>\n",
       "      <td>11056</td>\n",
       "      <td>15945</td>\n",
       "    </tr>\n",
       "    <tr>\n",
       "      <td>1</td>\n",
       "      <td>Saint-Petersburg</td>\n",
       "      <td>5614</td>\n",
       "      <td>7003</td>\n",
       "      <td>5895</td>\n",
       "    </tr>\n",
       "  </tbody>\n",
       "</table>\n",
       "</div>"
      ],
      "text/plain": [
       "               city  monday  wednesday  friday\n",
       "0            Moscow   15740      11056   15945\n",
       "1  Saint-Petersburg    5614       7003    5895"
      ]
     },
     "metadata": {},
     "output_type": "display_data"
    }
   ],
   "source": [
    "data = [['Moscow', 15740, 11056, 15945],\n",
    "        ['Saint-Petersburg', 5614, 7003, 5895]] \n",
    "columns = ['city', 'monday', 'wednesday', 'friday'] \n",
    "table = pd.DataFrame(data = data, columns = columns) \n",
    "display(table)"
   ]
  },
  {
   "cell_type": "markdown",
   "metadata": {
    "id": "-EgPIHYu_Zcu"
   },
   "source": [
    "**Conclusions**\n",
    "\n",
    "The data shows the difference in user behavior:\n",
    "\n",
    "- In Moscow, the peak of listening falls on Monday and Friday, and on Wednesday there is a noticeable decline.\n",
    "- In St. Petersburg, on the contrary, they listen to music more on Wednesdays. Activity on Monday and Friday here is almost equally inferior to Wednesday.\n",
    "\n",
    "So the data support the first hypothesis."
   ]
  },
  {
   "cell_type": "markdown",
   "metadata": {
    "id": "atZAxtq4_Zcu"
   },
   "source": [
    "### Music at the beginning and end of the week"
   ]
  },
  {
   "cell_type": "markdown",
   "metadata": {
    "id": "eXrQqXFH_Zcu"
   },
   "source": [
    "According to the second hypothesis, on Monday morning certain genres predominate in Moscow, while others dominate in St. Petersburg. Similarly, Friday evenings are dominated by different genres, depending on the city."
   ]
  },
  {
   "cell_type": "code",
   "execution_count": 28,
   "metadata": {
    "id": "qeaFfM_P_Zcu"
   },
   "outputs": [
    {
     "data": {
      "text/html": [
       "<div>\n",
       "<style scoped>\n",
       "    .dataframe tbody tr th:only-of-type {\n",
       "        vertical-align: middle;\n",
       "    }\n",
       "\n",
       "    .dataframe tbody tr th {\n",
       "        vertical-align: top;\n",
       "    }\n",
       "\n",
       "    .dataframe thead th {\n",
       "        text-align: right;\n",
       "    }\n",
       "</style>\n",
       "<table border=\"1\" class=\"dataframe\">\n",
       "  <thead>\n",
       "    <tr style=\"text-align: right;\">\n",
       "      <th></th>\n",
       "      <th>user_id</th>\n",
       "      <th>track</th>\n",
       "      <th>artist</th>\n",
       "      <th>genre</th>\n",
       "      <th>city</th>\n",
       "      <th>time</th>\n",
       "      <th>day</th>\n",
       "    </tr>\n",
       "  </thead>\n",
       "  <tbody>\n",
       "    <tr>\n",
       "      <td>1</td>\n",
       "      <td>55204538</td>\n",
       "      <td>Delayed Because of Accident</td>\n",
       "      <td>Andreas Rönnberg</td>\n",
       "      <td>rock</td>\n",
       "      <td>Moscow</td>\n",
       "      <td>14:07:09</td>\n",
       "      <td>Friday</td>\n",
       "    </tr>\n",
       "    <tr>\n",
       "      <td>4</td>\n",
       "      <td>E2DC1FAE</td>\n",
       "      <td>Soul People</td>\n",
       "      <td>Space Echo</td>\n",
       "      <td>dance</td>\n",
       "      <td>Moscow</td>\n",
       "      <td>08:34:34</td>\n",
       "      <td>Monday</td>\n",
       "    </tr>\n",
       "    <tr>\n",
       "      <td>6</td>\n",
       "      <td>4CB90AA5</td>\n",
       "      <td>True</td>\n",
       "      <td>Roman Messer</td>\n",
       "      <td>dance</td>\n",
       "      <td>Moscow</td>\n",
       "      <td>13:00:07</td>\n",
       "      <td>Wednesday</td>\n",
       "    </tr>\n",
       "    <tr>\n",
       "      <td>7</td>\n",
       "      <td>F03E1C1F</td>\n",
       "      <td>Feeling This Way</td>\n",
       "      <td>Polina Griffith</td>\n",
       "      <td>dance</td>\n",
       "      <td>Moscow</td>\n",
       "      <td>20:47:49</td>\n",
       "      <td>Wednesday</td>\n",
       "    </tr>\n",
       "    <tr>\n",
       "      <td>8</td>\n",
       "      <td>8FA1D3BE</td>\n",
       "      <td>И вновь продолжается бой</td>\n",
       "      <td>unknown</td>\n",
       "      <td>ruspop</td>\n",
       "      <td>Moscow</td>\n",
       "      <td>09:17:40</td>\n",
       "      <td>Friday</td>\n",
       "    </tr>\n",
       "  </tbody>\n",
       "</table>\n",
       "</div>"
      ],
      "text/plain": [
       "    user_id                        track            artist   genre    city  \\\n",
       "1  55204538  Delayed Because of Accident  Andreas Rönnberg    rock  Moscow   \n",
       "4  E2DC1FAE                  Soul People        Space Echo   dance  Moscow   \n",
       "6  4CB90AA5                         True      Roman Messer   dance  Moscow   \n",
       "7  F03E1C1F             Feeling This Way   Polina Griffith   dance  Moscow   \n",
       "8  8FA1D3BE     И вновь продолжается бой           unknown  ruspop  Moscow   \n",
       "\n",
       "       time        day  \n",
       "1  14:07:09     Friday  \n",
       "4  08:34:34     Monday  \n",
       "6  13:00:07  Wednesday  \n",
       "7  20:47:49  Wednesday  \n",
       "8  09:17:40     Friday  "
      ]
     },
     "execution_count": 28,
     "metadata": {},
     "output_type": "execute_result"
    }
   ],
   "source": [
    "moscow_general = df[df['city'] == 'Moscow']\n",
    "moscow_general.head()"
   ]
  },
  {
   "cell_type": "code",
   "execution_count": 29,
   "metadata": {
    "id": "ORaVRKto_Zcu"
   },
   "outputs": [
    {
     "data": {
      "text/html": [
       "<div>\n",
       "<style scoped>\n",
       "    .dataframe tbody tr th:only-of-type {\n",
       "        vertical-align: middle;\n",
       "    }\n",
       "\n",
       "    .dataframe tbody tr th {\n",
       "        vertical-align: top;\n",
       "    }\n",
       "\n",
       "    .dataframe thead th {\n",
       "        text-align: right;\n",
       "    }\n",
       "</style>\n",
       "<table border=\"1\" class=\"dataframe\">\n",
       "  <thead>\n",
       "    <tr style=\"text-align: right;\">\n",
       "      <th></th>\n",
       "      <th>user_id</th>\n",
       "      <th>track</th>\n",
       "      <th>artist</th>\n",
       "      <th>genre</th>\n",
       "      <th>city</th>\n",
       "      <th>time</th>\n",
       "      <th>day</th>\n",
       "    </tr>\n",
       "  </thead>\n",
       "  <tbody>\n",
       "    <tr>\n",
       "      <td>0</td>\n",
       "      <td>FFB692EC</td>\n",
       "      <td>Kamigata To Boots</td>\n",
       "      <td>The Mass Missile</td>\n",
       "      <td>rock</td>\n",
       "      <td>Saint-Petersburg</td>\n",
       "      <td>20:28:33</td>\n",
       "      <td>Wednesday</td>\n",
       "    </tr>\n",
       "    <tr>\n",
       "      <td>2</td>\n",
       "      <td>20EC38</td>\n",
       "      <td>Funiculì funiculà</td>\n",
       "      <td>Mario Lanza</td>\n",
       "      <td>pop</td>\n",
       "      <td>Saint-Petersburg</td>\n",
       "      <td>20:58:07</td>\n",
       "      <td>Wednesday</td>\n",
       "    </tr>\n",
       "    <tr>\n",
       "      <td>3</td>\n",
       "      <td>A3DD03C9</td>\n",
       "      <td>Dragons in the Sunset</td>\n",
       "      <td>Fire + Ice</td>\n",
       "      <td>folk</td>\n",
       "      <td>Saint-Petersburg</td>\n",
       "      <td>08:37:09</td>\n",
       "      <td>Monday</td>\n",
       "    </tr>\n",
       "    <tr>\n",
       "      <td>5</td>\n",
       "      <td>842029A1</td>\n",
       "      <td>Преданная</td>\n",
       "      <td>IMPERVTOR</td>\n",
       "      <td>rusrap</td>\n",
       "      <td>Saint-Petersburg</td>\n",
       "      <td>13:09:41</td>\n",
       "      <td>Friday</td>\n",
       "    </tr>\n",
       "    <tr>\n",
       "      <td>9</td>\n",
       "      <td>E772D5C0</td>\n",
       "      <td>Pessimist</td>\n",
       "      <td>unknown</td>\n",
       "      <td>dance</td>\n",
       "      <td>Saint-Petersburg</td>\n",
       "      <td>21:20:49</td>\n",
       "      <td>Wednesday</td>\n",
       "    </tr>\n",
       "  </tbody>\n",
       "</table>\n",
       "</div>"
      ],
      "text/plain": [
       "    user_id                  track            artist   genre  \\\n",
       "0  FFB692EC      Kamigata To Boots  The Mass Missile    rock   \n",
       "2    20EC38      Funiculì funiculà       Mario Lanza     pop   \n",
       "3  A3DD03C9  Dragons in the Sunset        Fire + Ice    folk   \n",
       "5  842029A1              Преданная         IMPERVTOR  rusrap   \n",
       "9  E772D5C0              Pessimist           unknown   dance   \n",
       "\n",
       "               city      time        day  \n",
       "0  Saint-Petersburg  20:28:33  Wednesday  \n",
       "2  Saint-Petersburg  20:58:07  Wednesday  \n",
       "3  Saint-Petersburg  08:37:09     Monday  \n",
       "5  Saint-Petersburg  13:09:41     Friday  \n",
       "9  Saint-Petersburg  21:20:49  Wednesday  "
      ]
     },
     "execution_count": 29,
     "metadata": {},
     "output_type": "execute_result"
    }
   ],
   "source": [
    "spb_general = df[df['city'] == 'Saint-Petersburg']\n",
    "spb_general.head()"
   ]
  },
  {
   "cell_type": "code",
   "execution_count": 30,
   "metadata": {
    "id": "laJT9BYl_Zcu"
   },
   "outputs": [],
   "source": [
    "def genre_weekday(table, day, time1, time2):\n",
    "    genre_df = table[table['day'] == day]\n",
    "    genre_df = genre_df[(genre_df['time'] > time1) & (genre_df['time'] < time2)]\n",
    "    genre_df_count = genre_df.groupby('genre')['genre'].count()\n",
    "    genre_df_sorted = genre_df_count.sort_values(ascending=False)\n",
    "    return genre_df_sorted.head(10)"
   ]
  },
  {
   "cell_type": "code",
   "execution_count": 31,
   "metadata": {
    "id": "yz7itPUQ_Zcu"
   },
   "outputs": [
    {
     "data": {
      "text/plain": [
       "genre\n",
       "pop            781\n",
       "dance          549\n",
       "electronic     480\n",
       "rock           474\n",
       "hiphop         286\n",
       "ruspop         186\n",
       "world          181\n",
       "rusrap         175\n",
       "alternative    164\n",
       "unknown        161\n",
       "Name: genre, dtype: int64"
      ]
     },
     "execution_count": 31,
     "metadata": {},
     "output_type": "execute_result"
    }
   ],
   "source": [
    "genre_weekday(moscow_general, 'Monday', '07:00', '11:00')"
   ]
  },
  {
   "cell_type": "code",
   "execution_count": 32,
   "metadata": {
    "id": "kwUcHPdy_Zcu"
   },
   "outputs": [
    {
     "data": {
      "text/plain": [
       "genre\n",
       "pop            218\n",
       "dance          182\n",
       "rock           162\n",
       "electronic     147\n",
       "hiphop          80\n",
       "ruspop          64\n",
       "alternative     58\n",
       "rusrap          55\n",
       "jazz            44\n",
       "classical       40\n",
       "Name: genre, dtype: int64"
      ]
     },
     "execution_count": 32,
     "metadata": {},
     "output_type": "execute_result"
    }
   ],
   "source": [
    "genre_weekday(spb_general, 'Monday', '07:00', '11:00')"
   ]
  },
  {
   "cell_type": "code",
   "execution_count": 33,
   "metadata": {
    "id": "EzXVRE1o_Zcu"
   },
   "outputs": [
    {
     "data": {
      "text/plain": [
       "genre\n",
       "pop            713\n",
       "rock           517\n",
       "dance          495\n",
       "electronic     482\n",
       "hiphop         273\n",
       "world          208\n",
       "ruspop         170\n",
       "alternative    163\n",
       "classical      163\n",
       "rusrap         142\n",
       "Name: genre, dtype: int64"
      ]
     },
     "execution_count": 33,
     "metadata": {},
     "output_type": "execute_result"
    }
   ],
   "source": [
    "genre_weekday(moscow_general, 'Friday', '17:00', '23:00')"
   ]
  },
  {
   "cell_type": "code",
   "execution_count": 34,
   "metadata": {
    "id": "JZaEKu5v_Zcu"
   },
   "outputs": [
    {
     "data": {
      "text/plain": [
       "genre\n",
       "pop            256\n",
       "rock           216\n",
       "electronic     216\n",
       "dance          210\n",
       "hiphop          97\n",
       "alternative     63\n",
       "jazz            61\n",
       "classical       60\n",
       "rusrap          59\n",
       "world           54\n",
       "Name: genre, dtype: int64"
      ]
     },
     "execution_count": 34,
     "metadata": {},
     "output_type": "execute_result"
    }
   ],
   "source": [
    "genre_weekday(spb_general, 'Friday', '17:00', '23:00')"
   ]
  },
  {
   "cell_type": "markdown",
   "metadata": {
    "id": "wrCe4MNX_Zcu"
   },
   "source": [
    "**Conclusions**\n",
    "\n",
    "If we compare the top 10 genres on Monday morning, we can draw the following conclusions:\n",
    "\n",
    "1. In Moscow and St. Petersburg they listen to similar music. The only difference is that the Moscow rating includes the “world” genre, while the St. Petersburg rating includes jazz and classical.\n",
    "\n",
    "2. There were so many missing values ​​in Moscow that the value `'unknown'` took tenth place among the most popular genres. This means that missing values ​​occupy a significant share in the data and threaten the reliability of the study.\n",
    "\n",
    "Friday night does not change this picture. Some genres rise a little higher, others go down, but overall the top 10 stays the same.\n",
    "\n",
    "Thus, the second hypothesis was only partially confirmed:\n",
    "* Users listen to similar music at the beginning of the week and at the end.\n",
    "* The difference between Moscow and St. Petersburg is not very pronounced. In Moscow, they listen to Russian popular music more often, in St. Petersburg - jazz.\n",
    "\n",
    "However, gaps in the data cast doubt on this result. There are so many of them in Moscow that the top 10 ranking could look different if it were not for the lost genre data."
   ]
  },
  {
   "cell_type": "markdown",
   "metadata": {
    "id": "JolODAqr_Zcu"
   },
   "source": [
    "### Genre preferences in Moscow and St. Petersburg\n",
    "\n",
    "Hypothesis: St. Petersburg is the capital of rap, the music of this genre is listened to more often than in Moscow. And Moscow is a city of contrasts, which, nevertheless, is dominated by pop music."
   ]
  },
  {
   "cell_type": "code",
   "execution_count": 35,
   "metadata": {
    "id": "r19lIPke_Zcu"
   },
   "outputs": [],
   "source": [
    "moscow_genres = moscow_general.groupby('genre').count().sort_values(by='track', ascending = False)"
   ]
  },
  {
   "cell_type": "code",
   "execution_count": 36,
   "metadata": {
    "id": "WhCSooF8_Zcv"
   },
   "outputs": [
    {
     "data": {
      "text/html": [
       "<div>\n",
       "<style scoped>\n",
       "    .dataframe tbody tr th:only-of-type {\n",
       "        vertical-align: middle;\n",
       "    }\n",
       "\n",
       "    .dataframe tbody tr th {\n",
       "        vertical-align: top;\n",
       "    }\n",
       "\n",
       "    .dataframe thead th {\n",
       "        text-align: right;\n",
       "    }\n",
       "</style>\n",
       "<table border=\"1\" class=\"dataframe\">\n",
       "  <thead>\n",
       "    <tr style=\"text-align: right;\">\n",
       "      <th></th>\n",
       "      <th>user_id</th>\n",
       "      <th>track</th>\n",
       "      <th>artist</th>\n",
       "      <th>city</th>\n",
       "      <th>time</th>\n",
       "      <th>day</th>\n",
       "    </tr>\n",
       "    <tr>\n",
       "      <th>genre</th>\n",
       "      <th></th>\n",
       "      <th></th>\n",
       "      <th></th>\n",
       "      <th></th>\n",
       "      <th></th>\n",
       "      <th></th>\n",
       "    </tr>\n",
       "  </thead>\n",
       "  <tbody>\n",
       "    <tr>\n",
       "      <td>pop</td>\n",
       "      <td>5892</td>\n",
       "      <td>5892</td>\n",
       "      <td>5892</td>\n",
       "      <td>5892</td>\n",
       "      <td>5892</td>\n",
       "      <td>5892</td>\n",
       "    </tr>\n",
       "    <tr>\n",
       "      <td>dance</td>\n",
       "      <td>4435</td>\n",
       "      <td>4435</td>\n",
       "      <td>4435</td>\n",
       "      <td>4435</td>\n",
       "      <td>4435</td>\n",
       "      <td>4435</td>\n",
       "    </tr>\n",
       "    <tr>\n",
       "      <td>rock</td>\n",
       "      <td>3965</td>\n",
       "      <td>3965</td>\n",
       "      <td>3965</td>\n",
       "      <td>3965</td>\n",
       "      <td>3965</td>\n",
       "      <td>3965</td>\n",
       "    </tr>\n",
       "    <tr>\n",
       "      <td>electronic</td>\n",
       "      <td>3786</td>\n",
       "      <td>3786</td>\n",
       "      <td>3786</td>\n",
       "      <td>3786</td>\n",
       "      <td>3786</td>\n",
       "      <td>3786</td>\n",
       "    </tr>\n",
       "    <tr>\n",
       "      <td>hiphop</td>\n",
       "      <td>2096</td>\n",
       "      <td>2096</td>\n",
       "      <td>2096</td>\n",
       "      <td>2096</td>\n",
       "      <td>2096</td>\n",
       "      <td>2096</td>\n",
       "    </tr>\n",
       "    <tr>\n",
       "      <td>classical</td>\n",
       "      <td>1616</td>\n",
       "      <td>1616</td>\n",
       "      <td>1616</td>\n",
       "      <td>1616</td>\n",
       "      <td>1616</td>\n",
       "      <td>1616</td>\n",
       "    </tr>\n",
       "    <tr>\n",
       "      <td>world</td>\n",
       "      <td>1432</td>\n",
       "      <td>1432</td>\n",
       "      <td>1432</td>\n",
       "      <td>1432</td>\n",
       "      <td>1432</td>\n",
       "      <td>1432</td>\n",
       "    </tr>\n",
       "    <tr>\n",
       "      <td>alternative</td>\n",
       "      <td>1379</td>\n",
       "      <td>1379</td>\n",
       "      <td>1379</td>\n",
       "      <td>1379</td>\n",
       "      <td>1379</td>\n",
       "      <td>1379</td>\n",
       "    </tr>\n",
       "    <tr>\n",
       "      <td>ruspop</td>\n",
       "      <td>1372</td>\n",
       "      <td>1372</td>\n",
       "      <td>1372</td>\n",
       "      <td>1372</td>\n",
       "      <td>1372</td>\n",
       "      <td>1372</td>\n",
       "    </tr>\n",
       "    <tr>\n",
       "      <td>rusrap</td>\n",
       "      <td>1161</td>\n",
       "      <td>1161</td>\n",
       "      <td>1161</td>\n",
       "      <td>1161</td>\n",
       "      <td>1161</td>\n",
       "      <td>1161</td>\n",
       "    </tr>\n",
       "  </tbody>\n",
       "</table>\n",
       "</div>"
      ],
      "text/plain": [
       "             user_id  track  artist  city  time   day\n",
       "genre                                                \n",
       "pop             5892   5892    5892  5892  5892  5892\n",
       "dance           4435   4435    4435  4435  4435  4435\n",
       "rock            3965   3965    3965  3965  3965  3965\n",
       "electronic      3786   3786    3786  3786  3786  3786\n",
       "hiphop          2096   2096    2096  2096  2096  2096\n",
       "classical       1616   1616    1616  1616  1616  1616\n",
       "world           1432   1432    1432  1432  1432  1432\n",
       "alternative     1379   1379    1379  1379  1379  1379\n",
       "ruspop          1372   1372    1372  1372  1372  1372\n",
       "rusrap          1161   1161    1161  1161  1161  1161"
      ]
     },
     "execution_count": 36,
     "metadata": {},
     "output_type": "execute_result"
    }
   ],
   "source": [
    "moscow_genres.head(10)"
   ]
  },
  {
   "cell_type": "code",
   "execution_count": 37,
   "metadata": {
    "id": "gluLIpE7_Zcv"
   },
   "outputs": [],
   "source": [
    "spb_genres = spb_general.groupby('genre').count().sort_values(by='track', ascending = False)"
   ]
  },
  {
   "cell_type": "code",
   "execution_count": 38,
   "metadata": {
    "id": "uaGJHjVU_Zcv"
   },
   "outputs": [
    {
     "data": {
      "text/html": [
       "<div>\n",
       "<style scoped>\n",
       "    .dataframe tbody tr th:only-of-type {\n",
       "        vertical-align: middle;\n",
       "    }\n",
       "\n",
       "    .dataframe tbody tr th {\n",
       "        vertical-align: top;\n",
       "    }\n",
       "\n",
       "    .dataframe thead th {\n",
       "        text-align: right;\n",
       "    }\n",
       "</style>\n",
       "<table border=\"1\" class=\"dataframe\">\n",
       "  <thead>\n",
       "    <tr style=\"text-align: right;\">\n",
       "      <th></th>\n",
       "      <th>user_id</th>\n",
       "      <th>track</th>\n",
       "      <th>artist</th>\n",
       "      <th>city</th>\n",
       "      <th>time</th>\n",
       "      <th>day</th>\n",
       "    </tr>\n",
       "    <tr>\n",
       "      <th>genre</th>\n",
       "      <th></th>\n",
       "      <th></th>\n",
       "      <th></th>\n",
       "      <th></th>\n",
       "      <th></th>\n",
       "      <th></th>\n",
       "    </tr>\n",
       "  </thead>\n",
       "  <tbody>\n",
       "    <tr>\n",
       "      <td>pop</td>\n",
       "      <td>2431</td>\n",
       "      <td>2431</td>\n",
       "      <td>2431</td>\n",
       "      <td>2431</td>\n",
       "      <td>2431</td>\n",
       "      <td>2431</td>\n",
       "    </tr>\n",
       "    <tr>\n",
       "      <td>dance</td>\n",
       "      <td>1932</td>\n",
       "      <td>1932</td>\n",
       "      <td>1932</td>\n",
       "      <td>1932</td>\n",
       "      <td>1932</td>\n",
       "      <td>1932</td>\n",
       "    </tr>\n",
       "    <tr>\n",
       "      <td>rock</td>\n",
       "      <td>1879</td>\n",
       "      <td>1879</td>\n",
       "      <td>1879</td>\n",
       "      <td>1879</td>\n",
       "      <td>1879</td>\n",
       "      <td>1879</td>\n",
       "    </tr>\n",
       "    <tr>\n",
       "      <td>electronic</td>\n",
       "      <td>1736</td>\n",
       "      <td>1736</td>\n",
       "      <td>1736</td>\n",
       "      <td>1736</td>\n",
       "      <td>1736</td>\n",
       "      <td>1736</td>\n",
       "    </tr>\n",
       "    <tr>\n",
       "      <td>hiphop</td>\n",
       "      <td>960</td>\n",
       "      <td>960</td>\n",
       "      <td>960</td>\n",
       "      <td>960</td>\n",
       "      <td>960</td>\n",
       "      <td>960</td>\n",
       "    </tr>\n",
       "    <tr>\n",
       "      <td>alternative</td>\n",
       "      <td>649</td>\n",
       "      <td>649</td>\n",
       "      <td>649</td>\n",
       "      <td>649</td>\n",
       "      <td>649</td>\n",
       "      <td>649</td>\n",
       "    </tr>\n",
       "    <tr>\n",
       "      <td>classical</td>\n",
       "      <td>646</td>\n",
       "      <td>646</td>\n",
       "      <td>646</td>\n",
       "      <td>646</td>\n",
       "      <td>646</td>\n",
       "      <td>646</td>\n",
       "    </tr>\n",
       "    <tr>\n",
       "      <td>rusrap</td>\n",
       "      <td>564</td>\n",
       "      <td>564</td>\n",
       "      <td>564</td>\n",
       "      <td>564</td>\n",
       "      <td>564</td>\n",
       "      <td>564</td>\n",
       "    </tr>\n",
       "    <tr>\n",
       "      <td>ruspop</td>\n",
       "      <td>538</td>\n",
       "      <td>538</td>\n",
       "      <td>538</td>\n",
       "      <td>538</td>\n",
       "      <td>538</td>\n",
       "      <td>538</td>\n",
       "    </tr>\n",
       "    <tr>\n",
       "      <td>world</td>\n",
       "      <td>515</td>\n",
       "      <td>515</td>\n",
       "      <td>515</td>\n",
       "      <td>515</td>\n",
       "      <td>515</td>\n",
       "      <td>515</td>\n",
       "    </tr>\n",
       "  </tbody>\n",
       "</table>\n",
       "</div>"
      ],
      "text/plain": [
       "             user_id  track  artist  city  time   day\n",
       "genre                                                \n",
       "pop             2431   2431    2431  2431  2431  2431\n",
       "dance           1932   1932    1932  1932  1932  1932\n",
       "rock            1879   1879    1879  1879  1879  1879\n",
       "electronic      1736   1736    1736  1736  1736  1736\n",
       "hiphop           960    960     960   960   960   960\n",
       "alternative      649    649     649   649   649   649\n",
       "classical        646    646     646   646   646   646\n",
       "rusrap           564    564     564   564   564   564\n",
       "ruspop           538    538     538   538   538   538\n",
       "world            515    515     515   515   515   515"
      ]
     },
     "execution_count": 38,
     "metadata": {},
     "output_type": "execute_result"
    }
   ],
   "source": [
    "spb_genres.head(10)"
   ]
  },
  {
   "cell_type": "markdown",
   "metadata": {
    "id": "nVhnJEm__Zcv"
   },
   "source": [
    "**Conclusions**\n",
    "\n",
    "The hypothesis was partially confirmed:\n",
    "* Pop music is the most popular genre in Moscow, as the hypothesis suggested. Moreover, in the top 10 genres there is a close genre - Russian popular music.\n",
    "* Contrary to expectations, rap is equally popular in Moscow and St. Petersburg."
   ]
  },
  {
   "cell_type": "markdown",
   "metadata": {
    "id": "ykKQ0N65_Zcv"
   },
   "source": [
    "## Research results"
   ]
  },
  {
   "cell_type": "markdown",
   "metadata": {
    "id": "tjUwbHb3_Zcv"
   },
   "source": [
    "3 hypotheses were tested:\n",
    "\n",
    "1. The day of the week has a different effect on the activity of users in Moscow and St. Petersburg.\n",
    "\n",
    "The first hypothesis was fully confirmed.\n",
    "\n",
    "2. Musical preferences do not change much during the week - be it Moscow or St. Petersburg. Small differences are noticeable at the beginning of the week, on Mondays:\n",
    "* in Moscow they listen to music of the “world” genre,\n",
    "* in St. Petersburg - jazz and classical music.\n",
    "\n",
    "Thus, the second hypothesis was only partly confirmed. This result could have been different were it not for gaps in the data.\n",
    "\n",
    "3. The tastes of users of Moscow and St. Petersburg have more in common than differences. Contrary to expectations, genre preferences in St. Petersburg resemble those in Moscow.\n",
    "\n",
    "The third hypothesis was not confirmed. If there are differences in preferences, they are invisible to the bulk of users."
   ]
  }
 ],
 "metadata": {
  "ExecuteTimeLog": [
   {
    "duration": 929,
    "start_time": "2022-02-12T10:30:02.760Z"
   },
   {
    "duration": 823,
    "start_time": "2022-02-12T10:30:39.631Z"
   },
   {
    "duration": 3356,
    "start_time": "2022-02-12T10:31:08.409Z"
   },
   {
    "duration": 2017,
    "start_time": "2022-02-12T10:31:43.627Z"
   },
   {
    "duration": 2727,
    "start_time": "2022-02-12T10:32:00.015Z"
   },
   {
    "duration": 2302,
    "start_time": "2022-02-12T10:33:30.391Z"
   },
   {
    "duration": 245,
    "start_time": "2022-02-12T10:33:47.432Z"
   },
   {
    "duration": 27,
    "start_time": "2022-02-12T10:34:06.069Z"
   },
   {
    "duration": 35,
    "start_time": "2022-02-12T10:34:37.199Z"
   },
   {
    "duration": 1008,
    "start_time": "2022-02-12T10:39:28.685Z"
   },
   {
    "duration": 7132,
    "start_time": "2022-02-12T10:39:38.050Z"
   },
   {
    "duration": 5,
    "start_time": "2022-02-12T10:39:59.052Z"
   },
   {
    "duration": 26,
    "start_time": "2022-02-12T10:41:51.272Z"
   },
   {
    "duration": 7,
    "start_time": "2022-02-12T10:42:07.452Z"
   },
   {
    "duration": 30,
    "start_time": "2022-02-12T10:42:53.726Z"
   },
   {
    "duration": 7671,
    "start_time": "2022-02-12T10:51:18.575Z"
   },
   {
    "duration": 8342,
    "start_time": "2022-02-12T10:52:38.953Z"
   },
   {
    "duration": 8724,
    "start_time": "2022-02-12T10:53:23.752Z"
   },
   {
    "duration": 7305,
    "start_time": "2022-02-12T10:54:48.283Z"
   },
   {
    "duration": 8587,
    "start_time": "2022-02-12T10:55:12.252Z"
   },
   {
    "duration": 5,
    "start_time": "2022-02-12T10:55:53.007Z"
   },
   {
    "duration": 9411,
    "start_time": "2022-02-12T10:56:28.534Z"
   },
   {
    "duration": 8357,
    "start_time": "2022-02-12T10:57:37.238Z"
   },
   {
    "duration": 14,
    "start_time": "2022-02-12T11:02:40.864Z"
   },
   {
    "duration": 296,
    "start_time": "2022-02-12T11:04:03.494Z"
   },
   {
    "duration": 301,
    "start_time": "2022-02-12T11:04:22.035Z"
   },
   {
    "duration": 26,
    "start_time": "2022-02-12T11:04:31.763Z"
   },
   {
    "duration": 294,
    "start_time": "2022-02-12T11:04:45.860Z"
   },
   {
    "duration": 44,
    "start_time": "2022-02-12T11:05:55.528Z"
   },
   {
    "duration": 29,
    "start_time": "2022-02-12T11:10:19.821Z"
   },
   {
    "duration": 71,
    "start_time": "2022-02-12T11:10:28.832Z"
   },
   {
    "duration": 61,
    "start_time": "2022-02-12T11:10:34.308Z"
   },
   {
    "duration": 30,
    "start_time": "2022-02-12T11:10:55.047Z"
   },
   {
    "duration": 61,
    "start_time": "2022-02-12T11:11:49.523Z"
   },
   {
    "duration": 17,
    "start_time": "2022-02-12T11:11:54.541Z"
   },
   {
    "duration": 301,
    "start_time": "2022-02-12T11:13:47.284Z"
   },
   {
    "duration": 365,
    "start_time": "2022-02-12T11:14:16.208Z"
   },
   {
    "duration": 595,
    "start_time": "2022-02-12T11:14:22.100Z"
   },
   {
    "duration": 113,
    "start_time": "2022-02-12T11:14:59.983Z"
   },
   {
    "duration": 18,
    "start_time": "2022-02-12T11:15:06.123Z"
   },
   {
    "duration": 353,
    "start_time": "2022-02-13T08:30:21.358Z"
   },
   {
    "duration": 328,
    "start_time": "2022-02-13T08:30:47.202Z"
   },
   {
    "duration": 699,
    "start_time": "2022-02-13T08:30:56.844Z"
   },
   {
    "duration": 127,
    "start_time": "2022-02-13T08:30:59.757Z"
   },
   {
    "duration": 15,
    "start_time": "2022-02-13T08:31:02.359Z"
   },
   {
    "duration": 23,
    "start_time": "2022-02-13T08:31:07.317Z"
   },
   {
    "duration": 4,
    "start_time": "2022-02-13T08:31:11.543Z"
   },
   {
    "duration": 17,
    "start_time": "2022-02-13T08:31:14.967Z"
   },
   {
    "duration": 4,
    "start_time": "2022-02-13T08:31:18.051Z"
   },
   {
    "duration": 21,
    "start_time": "2022-02-13T08:31:22.839Z"
   },
   {
    "duration": 73,
    "start_time": "2022-02-13T08:31:26.164Z"
   },
   {
    "duration": 36,
    "start_time": "2022-02-13T08:31:31.396Z"
   },
   {
    "duration": 51,
    "start_time": "2022-02-13T08:33:01.805Z"
   },
   {
    "duration": 63,
    "start_time": "2022-02-13T08:33:43.127Z"
   },
   {
    "duration": 45,
    "start_time": "2022-02-13T08:33:54.435Z"
   },
   {
    "duration": 6,
    "start_time": "2022-02-13T08:35:08.782Z"
   },
   {
    "duration": 132,
    "start_time": "2022-02-13T08:36:27.567Z"
   },
   {
    "duration": 141,
    "start_time": "2022-02-13T08:36:38.352Z"
   },
   {
    "duration": 45,
    "start_time": "2022-02-13T08:36:49.411Z"
   },
   {
    "duration": 45,
    "start_time": "2022-02-13T08:37:36.111Z"
   },
   {
    "duration": 46,
    "start_time": "2022-02-13T08:37:46.150Z"
   },
   {
    "duration": 3,
    "start_time": "2022-02-13T08:40:52.466Z"
   },
   {
    "duration": 694,
    "start_time": "2022-02-13T08:42:25.374Z"
   },
   {
    "duration": 335,
    "start_time": "2022-02-13T08:42:31.487Z"
   },
   {
    "duration": 4,
    "start_time": "2022-02-13T08:50:48.217Z"
   },
   {
    "duration": 11,
    "start_time": "2022-02-13T08:51:33.642Z"
   },
   {
    "duration": 8,
    "start_time": "2022-02-13T08:51:47.126Z"
   },
   {
    "duration": 44,
    "start_time": "2022-02-13T08:52:05.376Z"
   },
   {
    "duration": 328,
    "start_time": "2022-02-13T08:59:57.971Z"
   },
   {
    "duration": 339,
    "start_time": "2022-02-13T09:00:23.396Z"
   },
   {
    "duration": 3,
    "start_time": "2022-02-13T09:00:33.410Z"
   },
   {
    "duration": 1184,
    "start_time": "2022-02-13T09:00:50.207Z"
   },
   {
    "duration": 326,
    "start_time": "2022-02-13T09:03:37.700Z"
   },
   {
    "duration": 328,
    "start_time": "2022-02-13T09:06:53.994Z"
   },
   {
    "duration": 12,
    "start_time": "2022-02-13T09:17:19.392Z"
   },
   {
    "duration": 26,
    "start_time": "2022-02-13T09:17:51.392Z"
   },
   {
    "duration": 29,
    "start_time": "2022-02-13T09:18:43.640Z"
   },
   {
    "duration": 29,
    "start_time": "2022-02-13T09:19:44.164Z"
   },
   {
    "duration": 3,
    "start_time": "2022-02-13T09:26:45.064Z"
   },
   {
    "duration": 4,
    "start_time": "2022-02-13T09:28:31.300Z"
   },
   {
    "duration": 3,
    "start_time": "2022-02-13T09:30:37.589Z"
   },
   {
    "duration": 3,
    "start_time": "2022-02-13T09:35:10.843Z"
   },
   {
    "duration": 6306,
    "start_time": "2022-02-13T09:35:44.758Z"
   },
   {
    "duration": 118,
    "start_time": "2022-02-13T09:38:56.684Z"
   },
   {
    "duration": 138,
    "start_time": "2022-02-13T09:39:21.325Z"
   },
   {
    "duration": 3,
    "start_time": "2022-02-13T09:39:40.056Z"
   },
   {
    "duration": 688,
    "start_time": "2022-02-13T09:39:45.550Z"
   },
   {
    "duration": 22,
    "start_time": "2022-02-13T09:47:06.775Z"
   },
   {
    "duration": 1119,
    "start_time": "2022-02-13T09:47:14.750Z"
   },
   {
    "duration": 3,
    "start_time": "2022-02-13T09:50:57.407Z"
   },
   {
    "duration": 792,
    "start_time": "2022-02-13T09:51:02.525Z"
   },
   {
    "duration": 8446,
    "start_time": "2022-02-13T09:54:22.218Z"
   },
   {
    "duration": 774,
    "start_time": "2022-02-13T09:54:29.891Z"
   },
   {
    "duration": 70,
    "start_time": "2022-02-13T09:54:46.027Z"
   },
   {
    "duration": 19,
    "start_time": "2022-02-13T09:54:49.642Z"
   },
   {
    "duration": 679,
    "start_time": "2022-02-13T09:56:27.488Z"
   },
   {
    "duration": 28,
    "start_time": "2022-02-13T10:09:36.061Z"
   },
   {
    "duration": 29,
    "start_time": "2022-02-13T10:09:48.551Z"
   },
   {
    "duration": 790,
    "start_time": "2022-02-13T10:09:55.622Z"
   },
   {
    "duration": 20,
    "start_time": "2022-02-13T10:13:47.059Z"
   },
   {
    "duration": 13,
    "start_time": "2022-02-13T10:14:16.435Z"
   },
   {
    "duration": 4,
    "start_time": "2022-02-13T10:17:59.820Z"
   },
   {
    "duration": 17,
    "start_time": "2022-02-13T10:18:57.433Z"
   },
   {
    "duration": 13,
    "start_time": "2022-02-13T10:19:42.872Z"
   },
   {
    "duration": 16,
    "start_time": "2022-02-13T10:20:28.406Z"
   },
   {
    "duration": 12,
    "start_time": "2022-02-13T10:20:42.592Z"
   },
   {
    "duration": 324,
    "start_time": "2022-02-13T10:23:41.581Z"
   },
   {
    "duration": 674,
    "start_time": "2022-02-13T10:24:59.129Z"
   },
   {
    "duration": 25,
    "start_time": "2022-02-13T10:25:09.521Z"
   },
   {
    "duration": 360,
    "start_time": "2022-02-13T10:25:31.647Z"
   },
   {
    "duration": 52,
    "start_time": "2022-02-13T10:26:07.491Z"
   },
   {
    "duration": 26,
    "start_time": "2022-02-13T10:26:43.398Z"
   },
   {
    "duration": 20,
    "start_time": "2022-02-13T10:27:04.730Z"
   },
   {
    "duration": 8,
    "start_time": "2022-02-13T10:27:18.808Z"
   },
   {
    "duration": 380,
    "start_time": "2022-02-13T10:28:18.127Z"
   },
   {
    "duration": 357,
    "start_time": "2022-02-13T10:28:47.249Z"
   },
   {
    "duration": 331,
    "start_time": "2022-02-13T10:29:54.889Z"
   },
   {
    "duration": 20,
    "start_time": "2022-02-13T10:30:08.975Z"
   },
   {
    "duration": 8,
    "start_time": "2022-02-13T10:30:12.758Z"
   },
   {
    "duration": 15,
    "start_time": "2022-02-13T10:30:40.464Z"
   },
   {
    "duration": 10,
    "start_time": "2022-02-13T10:30:43.973Z"
   },
   {
    "duration": 1081,
    "start_time": "2022-02-13T10:31:49.969Z"
   },
   {
    "duration": 668,
    "start_time": "2022-02-13T10:34:22.567Z"
   },
   {
    "duration": 4,
    "start_time": "2022-02-13T10:34:41.663Z"
   },
   {
    "duration": 2777,
    "start_time": "2022-02-13T10:34:44.924Z"
   },
   {
    "duration": 3,
    "start_time": "2022-02-13T10:35:21.129Z"
   },
   {
    "duration": 15,
    "start_time": "2022-02-13T10:35:24.222Z"
   },
   {
    "duration": 14,
    "start_time": "2022-02-13T10:35:52.871Z"
   },
   {
    "duration": 13,
    "start_time": "2022-02-13T10:36:03.336Z"
   },
   {
    "duration": 15,
    "start_time": "2022-02-13T10:36:23.213Z"
   },
   {
    "duration": 13,
    "start_time": "2022-02-13T10:37:24.127Z"
   },
   {
    "duration": 14,
    "start_time": "2022-02-13T10:37:48.980Z"
   },
   {
    "duration": 13,
    "start_time": "2022-02-13T10:37:50.920Z"
   },
   {
    "duration": 12,
    "start_time": "2022-02-13T10:38:24.938Z"
   },
   {
    "duration": 8,
    "start_time": "2022-02-13T10:38:39.977Z"
   },
   {
    "duration": 627,
    "start_time": "2022-02-19T09:47:59.731Z"
   },
   {
    "duration": 142,
    "start_time": "2022-02-19T09:48:00.360Z"
   },
   {
    "duration": 15,
    "start_time": "2022-02-19T09:48:00.504Z"
   },
   {
    "duration": 34,
    "start_time": "2022-02-19T09:48:00.521Z"
   },
   {
    "duration": 11,
    "start_time": "2022-02-19T09:48:00.557Z"
   },
   {
    "duration": 26,
    "start_time": "2022-02-19T09:48:00.569Z"
   },
   {
    "duration": 3,
    "start_time": "2022-02-19T09:48:00.598Z"
   },
   {
    "duration": 28,
    "start_time": "2022-02-19T09:48:00.603Z"
   },
   {
    "duration": 99,
    "start_time": "2022-02-19T09:48:00.632Z"
   },
   {
    "duration": 21,
    "start_time": "2022-02-19T09:48:00.733Z"
   },
   {
    "duration": 60,
    "start_time": "2022-02-19T09:48:00.756Z"
   },
   {
    "duration": 85,
    "start_time": "2022-02-19T09:48:00.818Z"
   },
   {
    "duration": 58,
    "start_time": "2022-02-19T09:48:00.905Z"
   },
   {
    "duration": 47,
    "start_time": "2022-02-19T09:48:00.965Z"
   },
   {
    "duration": 3,
    "start_time": "2022-02-19T09:48:01.014Z"
   },
   {
    "duration": 12,
    "start_time": "2022-02-19T09:48:01.018Z"
   },
   {
    "duration": 61,
    "start_time": "2022-02-19T09:48:01.031Z"
   },
   {
    "duration": 27,
    "start_time": "2022-02-19T09:48:01.094Z"
   },
   {
    "duration": 45,
    "start_time": "2022-02-19T09:48:01.123Z"
   },
   {
    "duration": 3,
    "start_time": "2022-02-19T09:48:01.170Z"
   },
   {
    "duration": 26,
    "start_time": "2022-02-19T09:48:01.174Z"
   },
   {
    "duration": 13,
    "start_time": "2022-02-19T09:48:01.203Z"
   },
   {
    "duration": 16,
    "start_time": "2022-02-19T09:48:01.218Z"
   },
   {
    "duration": 13,
    "start_time": "2022-02-19T09:48:01.246Z"
   },
   {
    "duration": 25,
    "start_time": "2022-02-19T09:48:01.261Z"
   },
   {
    "duration": 11,
    "start_time": "2022-02-19T09:48:01.288Z"
   },
   {
    "duration": 8,
    "start_time": "2022-02-19T09:48:01.301Z"
   },
   {
    "duration": 21,
    "start_time": "2022-02-19T09:48:01.311Z"
   },
   {
    "duration": 22,
    "start_time": "2022-02-19T09:48:01.333Z"
   },
   {
    "duration": 3,
    "start_time": "2022-02-19T09:48:01.356Z"
   },
   {
    "duration": 23,
    "start_time": "2022-02-19T09:48:01.360Z"
   },
   {
    "duration": 11,
    "start_time": "2022-02-19T09:48:01.385Z"
   },
   {
    "duration": 14,
    "start_time": "2022-02-19T09:48:01.398Z"
   },
   {
    "duration": 34,
    "start_time": "2022-02-19T09:48:01.414Z"
   },
   {
    "duration": 20,
    "start_time": "2022-02-19T09:48:01.450Z"
   },
   {
    "duration": 7,
    "start_time": "2022-02-19T09:48:01.471Z"
   },
   {
    "duration": 18,
    "start_time": "2022-02-19T09:48:01.480Z"
   },
   {
    "duration": 9,
    "start_time": "2022-02-19T09:48:01.499Z"
   },
   {
    "duration": 153,
    "start_time": "2022-02-19T09:57:06.420Z"
   },
   {
    "duration": 9,
    "start_time": "2022-02-19T10:02:13.782Z"
   },
   {
    "duration": 28,
    "start_time": "2022-02-19T10:02:18.180Z"
   },
   {
    "duration": 118,
    "start_time": "2022-02-19T10:03:18.518Z"
   },
   {
    "duration": 140,
    "start_time": "2022-02-19T10:06:50.721Z"
   },
   {
    "duration": 674,
    "start_time": "2022-02-20T10:21:02.786Z"
   },
   {
    "duration": 397,
    "start_time": "2022-02-20T10:21:12.901Z"
   },
   {
    "duration": 388,
    "start_time": "2022-02-20T10:22:15.310Z"
   },
   {
    "duration": 768,
    "start_time": "2022-02-20T10:22:34.512Z"
   },
   {
    "duration": 860,
    "start_time": "2022-02-20T10:24:47.945Z"
   },
   {
    "duration": 453,
    "start_time": "2022-02-20T10:26:09.949Z"
   },
   {
    "duration": 817,
    "start_time": "2022-02-20T10:26:18.218Z"
   },
   {
    "duration": 256,
    "start_time": "2022-02-20T10:26:23.148Z"
   },
   {
    "duration": 26,
    "start_time": "2022-02-20T10:26:26.651Z"
   },
   {
    "duration": 33,
    "start_time": "2022-02-20T10:26:30.077Z"
   },
   {
    "duration": 7,
    "start_time": "2022-02-20T10:26:34.482Z"
   },
   {
    "duration": 5,
    "start_time": "2022-02-20T10:26:48.614Z"
   },
   {
    "duration": 6,
    "start_time": "2022-02-20T10:26:59.742Z"
   },
   {
    "duration": 26,
    "start_time": "2022-02-20T10:27:06.087Z"
   },
   {
    "duration": 6,
    "start_time": "2022-02-20T10:27:09.448Z"
   },
   {
    "duration": 139,
    "start_time": "2022-02-20T10:27:40.552Z"
   },
   {
    "duration": 33,
    "start_time": "2022-02-20T10:27:43.657Z"
   },
   {
    "duration": 10427,
    "start_time": "2022-02-20T10:33:34.550Z"
   },
   {
    "duration": 31,
    "start_time": "2022-02-20T10:33:45.294Z"
   },
   {
    "duration": 19641,
    "start_time": "2022-02-20T10:34:13.954Z"
   },
   {
    "duration": 2487,
    "start_time": "2022-02-20T10:34:31.114Z"
   },
   {
    "duration": 16472,
    "start_time": "2022-02-20T10:36:46.086Z"
   },
   {
    "duration": 16,
    "start_time": "2022-02-20T10:39:30.647Z"
   },
   {
    "duration": 23151,
    "start_time": "2022-02-20T10:39:57.295Z"
   },
   {
    "duration": 11191,
    "start_time": "2022-02-20T10:46:23.750Z"
   },
   {
    "duration": 14996,
    "start_time": "2022-02-20T10:47:07.629Z"
   },
   {
    "duration": 27,
    "start_time": "2022-02-20T10:47:27.972Z"
   },
   {
    "duration": 45,
    "start_time": "2022-02-20T10:47:32.498Z"
   },
   {
    "duration": 84,
    "start_time": "2022-02-20T10:47:56.467Z"
   },
   {
    "duration": 104,
    "start_time": "2022-02-20T10:47:59.795Z"
   },
   {
    "duration": 78,
    "start_time": "2022-02-20T10:48:03.815Z"
   },
   {
    "duration": 79,
    "start_time": "2022-02-20T10:48:07.367Z"
   },
   {
    "duration": 5,
    "start_time": "2022-02-20T10:48:12.612Z"
   },
   {
    "duration": 20,
    "start_time": "2022-02-20T10:48:15.053Z"
   },
   {
    "duration": 112,
    "start_time": "2022-02-20T10:48:18.120Z"
   },
   {
    "duration": 15,
    "start_time": "2022-02-20T10:48:24.231Z"
   },
   {
    "duration": 13,
    "start_time": "2022-02-20T10:48:36.814Z"
   },
   {
    "duration": 6,
    "start_time": "2022-02-20T10:48:43.346Z"
   },
   {
    "duration": 6,
    "start_time": "2022-02-20T10:49:20.915Z"
   },
   {
    "duration": 391,
    "start_time": "2022-02-20T10:49:27.349Z"
   },
   {
    "duration": 3,
    "start_time": "2022-02-20T10:50:27.999Z"
   },
   {
    "duration": 224,
    "start_time": "2022-02-20T10:50:28.006Z"
   },
   {
    "duration": 18,
    "start_time": "2022-02-20T10:50:28.234Z"
   },
   {
    "duration": 56,
    "start_time": "2022-02-20T10:50:28.255Z"
   },
   {
    "duration": 6,
    "start_time": "2022-02-20T10:50:28.314Z"
   },
   {
    "duration": 27,
    "start_time": "2022-02-20T10:50:28.323Z"
   },
   {
    "duration": 14,
    "start_time": "2022-02-20T10:50:28.354Z"
   },
   {
    "duration": 64,
    "start_time": "2022-02-20T10:50:28.373Z"
   },
   {
    "duration": 25,
    "start_time": "2022-02-20T10:50:28.440Z"
   },
   {
    "duration": 43,
    "start_time": "2022-02-20T10:50:28.468Z"
   },
   {
    "duration": 132,
    "start_time": "2022-02-20T10:50:28.514Z"
   },
   {
    "duration": 111,
    "start_time": "2022-02-20T10:50:28.649Z"
   },
   {
    "duration": 91,
    "start_time": "2022-02-20T10:50:28.763Z"
   },
   {
    "duration": 85,
    "start_time": "2022-02-20T10:50:28.857Z"
   },
   {
    "duration": 4,
    "start_time": "2022-02-20T10:50:28.945Z"
   },
   {
    "duration": 15,
    "start_time": "2022-02-20T10:50:28.952Z"
   },
   {
    "duration": 104,
    "start_time": "2022-02-20T10:50:28.970Z"
   },
   {
    "duration": 15,
    "start_time": "2022-02-20T10:50:29.077Z"
   },
   {
    "duration": 18,
    "start_time": "2022-02-20T10:50:29.116Z"
   },
   {
    "duration": 6,
    "start_time": "2022-02-20T10:50:29.137Z"
   },
   {
    "duration": 34,
    "start_time": "2022-02-20T10:50:29.146Z"
   },
   {
    "duration": 39,
    "start_time": "2022-02-20T10:50:29.184Z"
   },
   {
    "duration": 21,
    "start_time": "2022-02-20T10:50:29.226Z"
   },
   {
    "duration": 62,
    "start_time": "2022-02-20T10:50:29.249Z"
   },
   {
    "duration": 35,
    "start_time": "2022-02-20T10:50:29.314Z"
   },
   {
    "duration": 27,
    "start_time": "2022-02-20T10:50:29.352Z"
   },
   {
    "duration": 36,
    "start_time": "2022-02-20T10:50:29.382Z"
   },
   {
    "duration": 27,
    "start_time": "2022-02-20T10:50:29.420Z"
   },
   {
    "duration": 22,
    "start_time": "2022-02-20T10:50:29.450Z"
   },
   {
    "duration": 6,
    "start_time": "2022-02-20T10:50:29.510Z"
   },
   {
    "duration": 26,
    "start_time": "2022-02-20T10:50:29.519Z"
   },
   {
    "duration": 18,
    "start_time": "2022-02-20T10:50:29.548Z"
   },
   {
    "duration": 56,
    "start_time": "2022-02-20T10:50:29.569Z"
   },
   {
    "duration": 17,
    "start_time": "2022-02-20T10:50:29.628Z"
   },
   {
    "duration": 30,
    "start_time": "2022-02-20T10:50:29.647Z"
   },
   {
    "duration": 45,
    "start_time": "2022-02-20T10:50:29.679Z"
   },
   {
    "duration": 20,
    "start_time": "2022-02-20T10:50:29.728Z"
   },
   {
    "duration": 14,
    "start_time": "2022-02-20T10:50:29.751Z"
   },
   {
    "duration": 595,
    "start_time": "2022-02-21T08:24:26.600Z"
   },
   {
    "duration": 138,
    "start_time": "2022-02-21T08:24:27.197Z"
   },
   {
    "duration": 17,
    "start_time": "2022-02-21T08:24:27.338Z"
   },
   {
    "duration": 23,
    "start_time": "2022-02-21T08:24:27.357Z"
   },
   {
    "duration": 4,
    "start_time": "2022-02-21T08:24:27.381Z"
   },
   {
    "duration": 50,
    "start_time": "2022-02-21T08:24:27.386Z"
   },
   {
    "duration": 5,
    "start_time": "2022-02-21T08:24:27.439Z"
   },
   {
    "duration": 24,
    "start_time": "2022-02-21T08:24:27.447Z"
   },
   {
    "duration": 55,
    "start_time": "2022-02-21T08:24:27.474Z"
   },
   {
    "duration": 24,
    "start_time": "2022-02-21T08:24:27.530Z"
   },
   {
    "duration": 79,
    "start_time": "2022-02-21T08:24:27.556Z"
   },
   {
    "duration": 67,
    "start_time": "2022-02-21T08:24:27.637Z"
   },
   {
    "duration": 69,
    "start_time": "2022-02-21T08:24:27.706Z"
   },
   {
    "duration": 77,
    "start_time": "2022-02-21T08:24:27.777Z"
   },
   {
    "duration": 3,
    "start_time": "2022-02-21T08:24:27.856Z"
   },
   {
    "duration": 11,
    "start_time": "2022-02-21T08:24:27.861Z"
   },
   {
    "duration": 62,
    "start_time": "2022-02-21T08:24:27.874Z"
   },
   {
    "duration": 11,
    "start_time": "2022-02-21T08:24:27.938Z"
   },
   {
    "duration": 10,
    "start_time": "2022-02-21T08:24:27.951Z"
   },
   {
    "duration": 6,
    "start_time": "2022-02-21T08:24:27.962Z"
   },
   {
    "duration": 19,
    "start_time": "2022-02-21T08:24:27.969Z"
   },
   {
    "duration": 39,
    "start_time": "2022-02-21T08:24:27.989Z"
   },
   {
    "duration": 14,
    "start_time": "2022-02-21T08:24:28.031Z"
   },
   {
    "duration": 13,
    "start_time": "2022-02-21T08:24:28.047Z"
   },
   {
    "duration": 15,
    "start_time": "2022-02-21T08:24:28.061Z"
   },
   {
    "duration": 42,
    "start_time": "2022-02-21T08:24:28.078Z"
   },
   {
    "duration": 11,
    "start_time": "2022-02-21T08:24:28.121Z"
   },
   {
    "duration": 19,
    "start_time": "2022-02-21T08:24:28.134Z"
   },
   {
    "duration": 23,
    "start_time": "2022-02-21T08:24:28.155Z"
   },
   {
    "duration": 4,
    "start_time": "2022-02-21T08:24:28.180Z"
   },
   {
    "duration": 22,
    "start_time": "2022-02-21T08:24:28.218Z"
   },
   {
    "duration": 12,
    "start_time": "2022-02-21T08:24:28.242Z"
   },
   {
    "duration": 19,
    "start_time": "2022-02-21T08:24:28.256Z"
   },
   {
    "duration": 51,
    "start_time": "2022-02-21T08:24:28.277Z"
   },
   {
    "duration": 23,
    "start_time": "2022-02-21T08:24:28.331Z"
   },
   {
    "duration": 8,
    "start_time": "2022-02-21T08:24:28.355Z"
   },
   {
    "duration": 24,
    "start_time": "2022-02-21T08:24:28.365Z"
   },
   {
    "duration": 33,
    "start_time": "2022-02-21T08:24:28.391Z"
   }
  ],
  "colab": {
   "collapsed_sections": [
    "E0vqbgi9ay0H",
    "VUC88oWjTJw2"
   ],
   "name": "yandex_music_project_2021.2.ipynb",
   "provenance": []
  },
  "kernelspec": {
   "display_name": "Python 3 (ipykernel)",
   "language": "python",
   "name": "python3"
  },
  "language_info": {
   "codemirror_mode": {
    "name": "ipython",
    "version": 3
   },
   "file_extension": ".py",
   "mimetype": "text/x-python",
   "name": "python",
   "nbconvert_exporter": "python",
   "pygments_lexer": "ipython3",
   "version": "3.9.7"
  },
  "toc": {
   "base_numbering": 1,
   "nav_menu": {},
   "number_sections": true,
   "sideBar": true,
   "skip_h1_title": true,
   "title_cell": "Table of Contents",
   "title_sidebar": "Contents",
   "toc_cell": false,
   "toc_position": {},
   "toc_section_display": true,
   "toc_window_display": false
  }
 },
 "nbformat": 4,
 "nbformat_minor": 1
}
